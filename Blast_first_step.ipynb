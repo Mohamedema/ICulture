{
 "cells": [
  {
   "cell_type": "code",
   "execution_count": 1,
   "id": "57c06ea1",
   "metadata": {},
   "outputs": [],
   "source": [
    "import subprocess\n",
    "\n",
    "def run_mmseq2_blast(MMseq2_executable_path, query_path, database_path, output_path, intermediate_path):\n",
    "    \"\"\"\n",
    "    Run MMseq2 with specified parameters.\n",
    "\n",
    "    Args:\n",
    "    - MMseq2_executable_path (str): Path to the MMseq2 executable.\n",
    "    - query_path (str): Path to the query sequence file.\n",
    "    - database_path (str): Path to the database file.\n",
    "    - output_path (str): Path for the output file.\n",
    "    - intermediate_path (str): Path for intermediate files.\n",
    "\n",
    "    Returns:\n",
    "    - output_path (str): Path of the generated output file.\n",
    "    \"\"\"\n",
    "\n",
    "    subprocess.run([MMseq2_executable_path, \"easy-search\", query_path, database_path, output_path, intermediate_path, \"--min-seq-id\", \"0.99\", \"--cov-mode\", \"4\"])\n",
    "    \n",
    "    return output_path\n"
   ]
  },
  {
   "cell_type": "code",
   "execution_count": 2,
   "id": "5f6c972c",
   "metadata": {},
   "outputs": [],
   "source": [
    "Query_path = \"/home/labpc6c/Documents/Toby_and_me_data/ncbi_dataset/GCA_000310025.1/GCA_000310025.1_ASM31002v1_genomic.fna\""
   ]
  },
  {
   "cell_type": "code",
   "execution_count": 3,
   "id": "3f9a7bae",
   "metadata": {},
   "outputs": [],
   "source": [
    "Data_base_path = \"/home/labpc6c/mmseqs/new/ncbi_dataset/data/protein.faa\""
   ]
  },
  {
   "cell_type": "code",
   "execution_count": 4,
   "id": "47967138",
   "metadata": {},
   "outputs": [],
   "source": [
    "Out_put_file_path = \"./alnResult1.m8\""
   ]
  },
  {
   "cell_type": "code",
   "execution_count": 5,
   "id": "467887d4",
   "metadata": {},
   "outputs": [],
   "source": [
    "Intermediate_file_path = \"tmp\""
   ]
  },
  {
   "cell_type": "code",
   "execution_count": 6,
   "id": "51366e2e",
   "metadata": {},
   "outputs": [],
   "source": [
    "MMseq2_path = '/home/labpc6c/Documents/Toby_and_me_data/MMseqs2/build/bin/mmseqs'\n"
   ]
  },
  {
   "cell_type": "code",
   "execution_count": null,
   "id": "0332e547",
   "metadata": {},
   "outputs": [],
   "source": [
    "run_mmseq2_blast(MMseq2_path, Query_path, Data_base_path , Out_put_file_path, Intermediate_file_path)"
   ]
  },
  {
   "cell_type": "code",
   "execution_count": null,
   "id": "8c158754",
   "metadata": {},
   "outputs": [],
   "source": []
  }
 ],
 "metadata": {
  "kernelspec": {
   "display_name": "Python 3 (ipykernel)",
   "language": "python",
   "name": "python3"
  },
  "language_info": {
   "codemirror_mode": {
    "name": "ipython",
    "version": 3
   },
   "file_extension": ".py",
   "mimetype": "text/x-python",
   "name": "python",
   "nbconvert_exporter": "python",
   "pygments_lexer": "ipython3",
   "version": "3.9.13"
  }
 },
 "nbformat": 4,
 "nbformat_minor": 5
}
